{
 "cells": [
  {
   "cell_type": "markdown",
   "id": "a490a3c9-9cc9-4ffc-ac44-12fa62b99ee3",
   "metadata": {},
   "source": [
    "# Importing the necessary libraries"
   ]
  },
  {
   "cell_type": "code",
   "execution_count": 1,
   "id": "1937ece6-1007-46f5-8836-89af405e76e9",
   "metadata": {},
   "outputs": [],
   "source": [
    "import pandas as pd\n",
    "import numpy as np\n",
    "from prettytable import PrettyTable\n",
    "import seaborn as sns\n",
    "import matplotlib.pyplot as plt\n",
    "from tabulate import tabulate"
   ]
  },
  {
   "cell_type": "markdown",
   "id": "210bd739-3e31-47c7-b075-51a5b325a4bb",
   "metadata": {},
   "source": [
    "# Load data"
   ]
  },
  {
   "cell_type": "code",
   "execution_count": 2,
   "id": "7be8f128-e8fc-4a98-a765-91032315a4c3",
   "metadata": {},
   "outputs": [],
   "source": [
    "# Load data\n",
    "df1 = pd.read_csv('constituency_wise_results_2014.csv')\n",
    "df2 = pd.read_csv('constituency_wise_results_2019.csv')"
   ]
  },
  {
   "cell_type": "markdown",
   "id": "3ba95d2e-426b-4ce3-9447-330bd4cdcc81",
   "metadata": {},
   "source": [
    "# Data cleaning functions"
   ]
  },
  {
   "cell_type": "code",
   "execution_count": 3,
   "id": "ee2be01a-dc96-496e-adb7-6d3d0dec96aa",
   "metadata": {},
   "outputs": [],
   "source": [
    "# Data cleaning functions\n",
    "# Function to clean constituency names by title casing and stripping white spaces\n",
    "def clean_constituency_names(df):\n",
    "    df['pc_name'] = df['pc_name'].str.title().str.strip()\n",
    "    return df\n",
    "\n",
    "# Function to normalize constituency names to lowercase (currently not used)\n",
    "def normalize(constituency_name):\n",
    "    return constituency_name.lower()\n",
    "\n",
    "# Function to replace specific constituency names with standardized names\n",
    "def replace_constituency_names(df, replacements):\n",
    "    df['pc_name'] = df['pc_name'].replace(replacements)\n",
    "    return df\n",
    "\n",
    "# Function to handle NOTA (None of the Above) votes by standardizing party_symbol, sex, and category columns\n",
    "def handle_nota(df):\n",
    "    nota_condition = df['party'] == 'NOTA'\n",
    "    df.loc[nota_condition, ['party_symbol', 'sex', 'category']] = 'NOTA'\n",
    "    return df\n",
    "\n",
    "# Function to clean specified columns by title casing and stripping white spaces\n",
    "def clean_columns(df, columns_to_transform):\n",
    "    for col in columns_to_transform:\n",
    "        df[col] = df[col].str.title().str.strip()\n",
    "    return df\n",
    "\n",
    "# Function to find and label duplicate constituencies by appending the state name to the constituency name\n",
    "def find_and_label_duplicate_constituencies(df):\n",
    "    constituency_counts = df.groupby('pc_name')['state'].nunique().reset_index()\n",
    "    constituency_counts.columns = ['pc_name', 'state_count']\n",
    "    duplicate_constituencies = constituency_counts[constituency_counts['state_count'] > 1]\n",
    "    \n",
    "    for pc_name in duplicate_constituencies['pc_name']:\n",
    "        states = df.loc[df['pc_name'] == pc_name, 'state'].unique()\n",
    "        for state in states:\n",
    "            df.loc[(df['pc_name'] == pc_name) & (df['state'] == state), 'pc_name'] += f\" ({state})\"\n",
    "    return df\n",
    "\n",
    "# Data cleaning\n",
    "# Clean constituency names in both datasets\n",
    "df1 = clean_constituency_names(df1)\n",
    "df2 = clean_constituency_names(df2)"
   ]
  },
  {
   "cell_type": "markdown",
   "id": "dfa82f55-3d50-4bde-af0b-7806f473013f",
   "metadata": {},
   "source": [
    "# Data cleaning"
   ]
  },
  {
   "cell_type": "code",
   "execution_count": 5,
   "id": "98e36807-357d-4c14-a3af-45d2ed89a822",
   "metadata": {},
   "outputs": [],
   "source": [
    "\n",
    "# Data cleaning\n",
    "# Clean constituency names in both datasets\n",
    "df1 = clean_constituency_names(df1)\n",
    "df2 = clean_constituency_names(df2)\n",
    "\n",
    "# Define replacements for constituency names\n",
    "replacements1 = {\n",
    "    \"Aruku\": \"Araku\",\n",
    "    \"Autonomous District\": \"Autonomous District\", \n",
    "    \"Gopalganj (Sc)\": \"Gopalganj\",\n",
    "    \"Hajipur (Sc)\": \"Hajipur\",\n",
    "    \"Samastipur (Sc)\": \"Samastipur\",\n",
    "    \"Bhiwani-Mahendragarh\": \"Bhiwani Mahendragarh\", \n",
    "    \"Bhandara - Gondiya\": \"Bhandara-Gondiya\",\n",
    "    \"Gadchiroli-Chimur\": \"Gadchiroli-Chimur\",\n",
    "    \"Mumbai South\": \"Mumbai South\",\n",
    "    \"Ratnagiri - Sindhudurg\": \"Ratnagiri-Sindhudurg\",\n",
    "    \"Tonk-Sawai Madhopur\": \"Tonk-Sawai Madhopur\",\n",
    "    \"Jhalawar-Baran\": \"Jhalawar-Baran\",\n",
    "    \"Andaman & Nicobar Islands\": \"Andaman and Nicobar Islands\",\n",
    "    \"Dadar & Nagar Haveli\": \"Dadra and Nagar Haveli\", \n",
    "    \"Daman & Diu\": \"Daman and Diu\", \n",
    "    \"Mohanlalganj\": \"Mohanlalganj\",\n",
    "    \"Bardhaman Purba\": \"Bardhaman Purba\",\n",
    "    \"Janjgir-Champa\": \"Janjgir-Champa\",\n",
    "    \"Kokrajhar\": \"Kokrajhar\",\n",
    "    \"Outer Manipur\": \"Outer Manipur\",\n",
    "    \"Shillong\": \"Shillong\",\n",
    "    \"Tura\": \"Tura\",\n",
    "    \"Mizoram\": \"Mizoram\",\n",
    "    \"Nagaland\": \"Nagaland\",\n",
    "    \"Mayurbhanj\": \"Mayurbhanj\",\n",
    "    \"Nabarangpur\": \"Nabarangpur\",\n",
    "    \"Kandhamal\": \"Kandhamal\",\n",
    "    \"Koraput\": \"Koraput\",\n",
    "    \"Hardwar\": \"Haridwar\",\n",
    "    \"Chelvella\": \"Chevella\",\n",
    "    \"Bikaner\": \"Bikaner\",\n",
    "    \"Joynagar\": \"Jaynagar\",\n",
    "    \"Secundrabad\": \"Secunderabad\"\n",
    "}\n",
    "\n",
    "replacements2 = {\n",
    "    \"Aruku\": \"Araku\",\n",
    "    \"Autonomous District\": \"Autonomous District\",\n",
    "    \"Gopalganj (Sc)\": \"Gopalganj\",\n",
    "    \"Hajipur (Sc)\": \"Hajipur\",\n",
    "    \"Samastipur (Sc)\": \"Samastipur\",\n",
    "    \"Bhiwani-Mahendragarh\": \"Bhiwani Mahendragarh\", \n",
    "    \"Bhandara - Gondiya\": \"Bhandara-Gondiya\",\n",
    "    \"Gadchiroli-Chimur\": \"Gadchiroli-Chimur\",\n",
    "    \"Ratnagiri - Sindhudurg\": \"Ratnagiri-Sindhudurg\",\n",
    "    \"Andaman & Nicobar Islands\": \"Andaman and Nicobar Islands\",\n",
    "    \"Dadra & Nagar Haveli\": \"Dadra and Nagar Haveli\", \n",
    "    \"Daman & Diu\": \"Daman and Diu\", \n",
    "    \"Mohanlalganj\": \"Mohanlalganj\",\n",
    "    \"Bardhaman Purba\": \"Bardhaman Purba\",\n",
    "    \"Janjgir-Champa\": \"Janjgir-Champa\",\n",
    "    \"Kokrajhar\": \"Kokrajhar\",\n",
    "    \"Outer Manipur\": \"Outer Manipur\",\n",
    "    \"Shillong\": \"Shillong\",\n",
    "    \"Tura\": \"Tura\",\n",
    "    \"Mizoram\": \"Mizoram\",\n",
    "    \"Nagaland\": \"Nagaland\",\n",
    "    \"Keonjhar\": \"Keonjhar\",\n",
    "    \"Mayurbhanj\": \"Mayurbhanj\",\n",
    "    \"Nabarangpur\": \"Nabarangpur\",\n",
    "    \"Kandhamal\": \"Kandhamal\",\n",
    "    \"Koraput\": \"Koraput\",\n",
    "    \"Hardwar\": \"Haridwar\",\n",
    "    \"Secundrabad\": \"Secunderabad\",\n",
    "    \"Bikaner (Sc)\": \"Bikaner\",\n",
    "    \"Berhampur\": \"Baharampur\"\n",
    "}\n",
    "\n",
    "# Replace constituency names in both datasets\n",
    "df1 = replace_constituency_names(df1, replacements1)\n",
    "df2 = replace_constituency_names(df2, replacements2)\n",
    "\n",
    "# Handle NOTA entries in both datasets\n",
    "df1 = handle_nota(df1)\n",
    "df2 = handle_nota(df2)\n",
    "\n",
    "# Fill missing age values with 0 and convert to integer in both datasets\n",
    "df1['age'] = df1['age'].fillna(0).astype(int)\n",
    "df2['age'] = df2['age'].fillna(0).astype(int)\n",
    "\n",
    "# Standardize the 'sex' column by replacing 'THIRD' with 'Other' in the 2019 dataset\n",
    "df2['sex'] = df2['sex'].replace('THIRD', 'Other')\n",
    "\n",
    "# Dictionary to standardize gender labels\n",
    "gender = {'M': 'Male', 'F': 'Female', 'O': 'Other'}\n",
    "df1['sex'] = df1['sex'].replace(gender)\n",
    "\n",
    "# Clean specified columns in both datasets\n",
    "columns_to_transform = ['pc_name', 'candidate', 'sex', 'party_symbol']\n",
    "df1 = clean_columns(df1, columns_to_transform)\n",
    "df2 = clean_columns(df2, columns_to_transform)\n",
    "\n",
    "# Convert specified columns to uppercase in both datasets\n",
    "columns_to_upper = ['category', 'party']\n",
    "for col in columns_to_upper:\n",
    "    df1[col] = df1[col].str.upper().str.strip()\n",
    "    df2[col] = df2[col].str.upper().str.strip()\n",
    "\n",
    "# Label duplicate constituencies in both datasets\n",
    "df1 = find_and_label_duplicate_constituencies(df1)\n",
    "df2 = find_and_label_duplicate_constituencies(df2)\n"
   ]
  },
  {
   "cell_type": "markdown",
   "id": "f7b7d3af-5117-4254-9860-3b6ab806385b",
   "metadata": {},
   "source": [
    "# Analysis Functions (Answering for the Questions)"
   ]
  },
  {
   "cell_type": "markdown",
   "id": "e293ab7a-612a-4876-a3d0-7437ec70517e",
   "metadata": {},
   "source": [
    "## 1.List top 5 / bottom 5 constituencies of 2014 and 2019 in terms of voter turnout ratio??"
   ]
  },
  {
   "cell_type": "code",
   "execution_count": 6,
   "id": "435706a2-049e-46ae-b7a3-9fe56c6866be",
   "metadata": {},
   "outputs": [
    {
     "name": "stdout",
     "output_type": "stream",
     "text": [
      "\n",
      "Top 5 Constituencies with Highest Voter Turnout Ratio in 2014:\n",
      "+-----------+---------------+\n",
      "|  pc_name  | Turnout Ratio |\n",
      "+-----------+---------------+\n",
      "|  Dhubri   |     88.35     |\n",
      "| Nagaland  |     87.82     |\n",
      "|  Tamluk   |     87.59     |\n",
      "| Bishnupur |     86.72     |\n",
      "|  Kanthi   |     86.61     |\n",
      "+-----------+---------------+\n",
      "\n",
      "Bottom 5 Constituencies with Lowest Voter Turnout Ratio in 2014:\n",
      "+-------------+---------------+\n",
      "|   pc_name   | Turnout Ratio |\n",
      "+-------------+---------------+\n",
      "|  Srinagar   |     25.86     |\n",
      "|  Anantnag   |     28.84     |\n",
      "|  Baramulla  |     39.13     |\n",
      "|   Kalyan    |     42.88     |\n",
      "| Patna Sahib |     45.33     |\n",
      "+-------------+---------------+\n",
      "\n",
      "Top 5 Constituencies with Highest Voter Turnout Ratio in 2019:\n",
      "+----------------+---------------+\n",
      "|    pc_name     | Turnout Ratio |\n",
      "+----------------+---------------+\n",
      "|     Dhubri     |     90.66     |\n",
      "|   Bishnupur    |     87.31     |\n",
      "|    Barpeta     |     86.55     |\n",
      "|   Jalpaiguri   |     86.49     |\n",
      "| Arunachal East |     86.46     |\n",
      "+----------------+---------------+\n",
      "\n",
      "Bottom 5 Constituencies with Lowest Voter Turnout Ratio in 2019:\n",
      "+-----------+---------------+\n",
      "|  pc_name  | Turnout Ratio |\n",
      "+-----------+---------------+\n",
      "| Anantnag  |     8.94      |\n",
      "| Srinagar  |     14.43     |\n",
      "| Baramulla |     34.57     |\n",
      "| Hyderabad |     44.84     |\n",
      "|  Kalyan   |     45.29     |\n",
      "+-----------+---------------+\n"
     ]
    }
   ],
   "source": [
    "# Analysis functions\n",
    "# Function to calculate voter turnout ratio for each constituency\n",
    "def calculate_turnout_ratio(df):\n",
    "    df_aggregated = df.groupby('pc_name', as_index=False).agg({\n",
    "        'total_votes': 'sum',\n",
    "        'total_electors': 'first'\n",
    "    })\n",
    "    df_aggregated['Turnout Ratio'] = ((df_aggregated['total_votes'] / df_aggregated['total_electors']) * 100).round(2)\n",
    "    return df_aggregated\n",
    "\n",
    "# Function to print top and bottom 5 constituencies based on voter turnout ratio\n",
    "def print_top_bottom_turnout(df_aggregated, year):\n",
    "    top_5 = df_aggregated.nlargest(5, 'Turnout Ratio').reset_index(drop=True)\n",
    "    bottom_5 = df_aggregated.nsmallest(5, 'Turnout Ratio').reset_index(drop=True)\n",
    "    \n",
    "    print(f\"\\nTop 5 Constituencies with Highest Voter Turnout Ratio in {year}:\")\n",
    "    print(tabulate(top_5[['pc_name', 'Turnout Ratio']], headers='keys', tablefmt='pretty', showindex=False))\n",
    "    \n",
    "    print(f\"\\nBottom 5 Constituencies with Lowest Voter Turnout Ratio in {year}:\")\n",
    "    print(tabulate(bottom_5[['pc_name', 'Turnout Ratio']], headers='keys', tablefmt='pretty', showindex=False))\n",
    "\n",
    "# Perform analysis\n",
    "# Calculate turnout ratio for 2014 and 2019 datasets\n",
    "df_aggregated_2014 = calculate_turnout_ratio(df1)\n",
    "df_aggregated_2019 = calculate_turnout_ratio(df2)\n",
    "\n",
    "# Print top and bottom 5 constituencies for 2014 and 2019\n",
    "print_top_bottom_turnout(df_aggregated_2014, 2014)\n",
    "print_top_bottom_turnout(df_aggregated_2019, 2019)"
   ]
  },
  {
   "cell_type": "markdown",
   "id": "dffb54b0-034a-4441-af0b-2b588ba9f53a",
   "metadata": {},
   "source": [
    "## 2.List top 5 / bottom 5 states of 2014 and 2019 in terms of voter turnout ratio?"
   ]
  },
  {
   "cell_type": "code",
   "execution_count": 7,
   "id": "b80e805d-e024-443d-8904-8d512f9a7d99",
   "metadata": {},
   "outputs": [
    {
     "name": "stdout",
     "output_type": "stream",
     "text": [
      "Top 5 states with Highest Voter Turnout Ratio in 2014:\n",
      "+----------------------+---------------+\n",
      "|        state         | Turnout Ratio |\n",
      "+----------------------+---------------+\n",
      "|       Nagaland       |     87.82     |\n",
      "|     Lakshadweep      |     86.61     |\n",
      "|       Tripura        |     84.72     |\n",
      "| Dadra & Nagar Haveli |     84.07     |\n",
      "|        Sikkim        |     83.33     |\n",
      "+----------------------+---------------+\n",
      "\n",
      "Bottom 5 states with Lowest Voter Turnout Ratio in 2014:\n",
      "+-----------------+---------------+\n",
      "|      state      | Turnout Ratio |\n",
      "+-----------------+---------------+\n",
      "| Jammu & Kashmir |     49.66     |\n",
      "|      Bihar      |     56.25     |\n",
      "|  Uttar Pradesh  |     58.42     |\n",
      "|   Maharashtra   |     60.29     |\n",
      "| Madhya Pradesh  |     61.59     |\n",
      "+-----------------+---------------+\n",
      "Top 5 states with Highest Voter Turnout Ratio in 2019:\n",
      "+-------------+---------------+\n",
      "|    state    | Turnout Ratio |\n",
      "+-------------+---------------+\n",
      "| Lakshadweep |     85.18     |\n",
      "|  Nagaland   |     82.91     |\n",
      "|   Manipur   |     82.54     |\n",
      "|   Tripura   |     82.35     |\n",
      "| West Bengal |     81.72     |\n",
      "+-------------+---------------+\n",
      "\n",
      "Bottom 5 states with Lowest Voter Turnout Ratio in 2019:\n",
      "+-----------------+---------------+\n",
      "|      state      | Turnout Ratio |\n",
      "+-----------------+---------------+\n",
      "| Jammu & Kashmir |     44.84     |\n",
      "|      Bihar      |     57.3      |\n",
      "|  Uttar Pradesh  |     59.18     |\n",
      "|  NCT OF Delhi   |     60.58     |\n",
      "|   Maharashtra   |     60.96     |\n",
      "+-----------------+---------------+\n"
     ]
    }
   ],
   "source": [
    "# Define a function to process the data and print the top/bottom states by voter turnout ratio\n",
    "def process_election_data(df, year):\n",
    "    st = df[['state', 'pc_name', 'total_electors']].drop_duplicates()\n",
    "    df_aggregated_st = st.groupby('state', as_index=False).agg({'total_electors': 'sum'})\n",
    "    \n",
    "    # Group by state and sum the total votes\n",
    "    df_aggregated = df.groupby('state', as_index=False).agg({'total_votes': 'sum'})\n",
    "    \n",
    "    # Merge total electors into aggregated dataframe\n",
    "    df_aggregated = df_aggregated.merge(df_aggregated_st[['state', 'total_electors']], on='state')\n",
    "    \n",
    "    # Calculate the voter turnout ratio\n",
    "    df_aggregated['Turnout Ratio'] = ((df_aggregated['total_votes'] / df_aggregated['total_electors']) * 100).round(2)\n",
    "    \n",
    "    # Find the top 5 states with the highest voter turnout ratio\n",
    "    top_5_states = df_aggregated.nlargest(5, 'Turnout Ratio')\n",
    "    \n",
    "    # Find the bottom 5 states with the lowest voter turnout ratio\n",
    "    bottom_5_states = df_aggregated.nsmallest(5, 'Turnout Ratio')\n",
    "    \n",
    "    # Print the results\n",
    "    print(f\"Top 5 states with Highest Voter Turnout Ratio in {year}:\")\n",
    "    print(tabulate(top_5_states[['state', 'Turnout Ratio']], headers='keys', tablefmt='pretty', showindex=False))\n",
    "    \n",
    "    print(f\"\\nBottom 5 states with Lowest Voter Turnout Ratio in {year}:\")\n",
    "    print(tabulate(bottom_5_states[['state', 'Turnout Ratio']], headers='keys', tablefmt='pretty', showindex=False))\n",
    "    \n",
    "    return df_aggregated\n",
    "\n",
    "# Process data for 2014 and 2019\n",
    "df1_aggregated = process_election_data(df1, 2014)\n",
    "df2_aggregated = process_election_data(df2, 2019)\n"
   ]
  },
  {
   "cell_type": "markdown",
   "id": "d5d62254-efa8-459f-9f8c-0f76abc86d42",
   "metadata": {},
   "source": [
    "## 3. Which constituencies have voted for different parties in two elections (list top 10 based on difference (2019-2014) in winner vote percentage in two elections)"
   ]
  },
  {
   "cell_type": "markdown",
   "id": "6be86e24-dfa7-47b0-8a9b-42ef69b70ada",
   "metadata": {},
   "source": [
    "### And"
   ]
  },
  {
   "cell_type": "markdown",
   "id": "9f47e0b1-f517-44b2-93b5-426e760259f9",
   "metadata": {},
   "source": [
    "## 4. Which constituencies have elected the same party for two consecutive elections, rank them by % of votes to that winning party in 2019 "
   ]
  },
  {
   "cell_type": "code",
   "execution_count": 11,
   "id": "7e54ebf3-56e3-4005-aacd-af26f5818955",
   "metadata": {},
   "outputs": [
    {
     "name": "stdout",
     "output_type": "stream",
     "text": [
      "3.Which constituencies have voted for different parties in two elections (list top 10 based on difference (2019-2014) in winner vote percentage in two elections)\n",
      "+---------------+---------------------+------------+-----------------------------+------------+-----------------------------+----------------------------+\n",
      "|     state     |       pc_name       | party_2014 | winner_vote_percentage_2014 | party_2019 | winner_vote_percentage_2019 | vote_percentage_difference |\n",
      "+---------------+---------------------+------------+-----------------------------+------------+-----------------------------+----------------------------+\n",
      "|  West Bengal  |     Alipurduars     |    AITC    |            24.64            |    BJP     |            45.55            |           20.91            |\n",
      "|   Nagaland    |      Nagaland       |    NPF     |            60.3             |    NDPP    |            41.24            |           19.06            |\n",
      "|     Assam     | Autonomous District |    INC     |            30.35            |    BJP     |            47.91            |           17.56            |\n",
      "|  Puducherry   |     Puducherry      |   AINRC    |            28.38            |    INC     |            45.71            |           17.33            |\n",
      "|    Tripura    |    Tripura East     |    CPM     |            54.7             |    BJP     |            38.21            |           16.49            |\n",
      "|  Tamil Nadu   |    Kanniyakumari    |    BJP     |            25.41            |    INC     |            41.78            |           16.37            |\n",
      "|   Karnataka   |    Chikkballapur    |    INC     |            25.61            |    BJP     |            41.24            |           15.63            |\n",
      "|   Karnataka   |        Kolar        |    INC     |            28.06            |    BJP     |            43.51            |           15.45            |\n",
      "| Uttar Pradesh |       Sambhal       |    BJP     |            21.28            |     SP     |            35.98            |            14.7            |\n",
      "|     Bihar     |       Supaul        |    INC     |            21.82            |   JD(U)    |            35.33            |           13.51            |\n",
      "+---------------+---------------------+------------+-----------------------------+------------+-----------------------------+----------------------------+\n",
      "The most common party among changed constituencies in 2019 is: BJP\n",
      "4. Which constituencies have elected the same party for two consecutive elections, rank them by % of votes to that winning party in 2019\n",
      "+------------------+-----------------------------+------------+-----------------------------+\n",
      "|      state       |           pc_name           | party_2019 | winner_vote_percentage_2019 |\n",
      "+------------------+-----------------------------+------------+-----------------------------+\n",
      "|      Kerala      |           Wayanad           |    INC     |            51.95            |\n",
      "|  Madhya Pradesh  |         Hoshangabad         |    BJP     |            51.46            |\n",
      "| Himachal Pradesh |           Kangra            |    BJP     |            50.81            |\n",
      "|    Karnataka     |       Uttara Kannada        |    BJP     |            50.5             |\n",
      "| Himachal Pradesh |            Mandi            |    BJP     |            50.5             |\n",
      "|      Assam       |          Dibrugarh          |    BJP     |            50.18            |\n",
      "| Himachal Pradesh | Hamirpur (Himachal Pradesh) |    BJP     |            50.11            |\n",
      "|  Andhra Pradesh  |           Kadapa            |   YSRCP    |            49.89            |\n",
      "|     Gujarat      |           Navsari           |    BJP     |            49.34            |\n",
      "|     Gujarat      |          Vadodara           |    BJP     |            49.24            |\n",
      "+------------------+-----------------------------+------------+-----------------------------+\n",
      "The most common party among constituencies with the same winning party in 2019 is: BJP\n"
     ]
    }
   ],
   "source": [
    "# Identify winners for 2014\n",
    "winners_2014 = df1.loc[df1.groupby('pc_name')['total_votes'].idxmax()].reset_index(drop=True)\n",
    "winners_2014 = winners_2014[['state', 'pc_name', 'party', 'total_votes', 'total_electors']]\n",
    "winners_2014['winner_vote_percentage_2014'] = (winners_2014['total_votes'] / winners_2014['total_electors'] * 100).round(2)\n",
    "\n",
    "# Identify winners for 2019\n",
    "winners_2019 = df2.loc[df2.groupby('pc_name')['total_votes'].idxmax()].reset_index(drop=True)\n",
    "winners_2019 = winners_2019[['state', 'pc_name', 'party', 'total_votes', 'total_electors']]\n",
    "winners_2019['winner_vote_percentage_2019'] = (winners_2019['total_votes'] / winners_2019['total_electors'] * 100).round(2)\n",
    "\n",
    "# Merge the winners dataframes\n",
    "merged_winners = pd.merge(winners_2014, winners_2019, on=['state', 'pc_name'], suffixes=('_2014', '_2019'))\n",
    "\n",
    "# Filter constituencies where the winning party changed\n",
    "changed_constituencies = merged_winners[merged_winners['party_2014'] != merged_winners['party_2019']].copy()\n",
    "\n",
    "# Calculate the difference in winner vote percentage\n",
    "changed_constituencies['vote_percentage_difference'] = abs(changed_constituencies['winner_vote_percentage_2014'] - changed_constituencies['winner_vote_percentage_2019']).round(2)\n",
    "\n",
    "# Get the top 10 constituencies based on vote percentage difference\n",
    "top_10_constituencies = changed_constituencies.nlargest(10, 'vote_percentage_difference')\n",
    "\n",
    "# Display the QN\n",
    "print('3.Which constituencies have voted for different parties in two elections (list top 10 based on difference (2019-2014) in winner vote percentage in two elections)')\n",
    "# Display the results\n",
    "print(tabulate(top_10_constituencies[['state', 'pc_name', 'party_2014', 'winner_vote_percentage_2014', 'party_2019', 'winner_vote_percentage_2019', 'vote_percentage_difference']], headers='keys', tablefmt='pretty', showindex=False))\n",
    "\n",
    "# Find the most common party among the changed constituencies in 2019\n",
    "mode_value = changed_constituencies['party_2019'].mode()[0]\n",
    "print(f\"The most common party among changed constituencies in 2019 is: {mode_value}\")\n",
    "\n",
    "# Filter constituencies where the winning party remained the same\n",
    "same_party_constituencies = merged_winners[merged_winners['party_2014'] == merged_winners['party_2019']]\n",
    "\n",
    "# Rank constituencies by vote percentage in 2019\n",
    "ranked_constituencies = same_party_constituencies.sort_values(by='winner_vote_percentage_2019', ascending=False)\n",
    "\n",
    "# Display the QN\n",
    "print('4. Which constituencies have elected the same party for two consecutive elections, rank them by % of votes to that winning party in 2019')\n",
    "\n",
    "# Display the top 10 results\n",
    "print(tabulate(ranked_constituencies[['state', 'pc_name', 'party_2019', 'winner_vote_percentage_2019']].head(10), headers='keys', tablefmt='pretty', showindex=False))\n",
    "\n",
    "# Find the most common party among constituencies with the same winning party in 2019\n",
    "mode_value_same_party = ranked_constituencies['party_2019'].mode()[0]\n",
    "print(f\"The most common party among constituencies with the same winning party in 2019 is: {mode_value_same_party}\")\n"
   ]
  },
  {
   "cell_type": "markdown",
   "id": "4cc67715-55a0-4df2-a469-ba60f74c9ce1",
   "metadata": {},
   "source": [
    "## 5. Top 5 candidates based on margin difference with runners in 2014 and 2019."
   ]
  },
  {
   "cell_type": "code",
   "execution_count": 13,
   "id": "fe970737-98e4-4b74-a6ab-0f884fc24368",
   "metadata": {},
   "outputs": [
    {
     "name": "stdout",
     "output_type": "stream",
     "text": [
      "Top 5 candidates based on margin in 2014:\n",
      "+-----------+---------------+-------------------------+--------------+---------+\n",
      "|  pc_name  | state_winner  |    candidate_winner     | party_winner | margin  |\n",
      "+-----------+---------------+-------------------------+--------------+---------+\n",
      "| Vadodara  |    Gujarat    |      Narendra Modi      |     BJP      | 570,128 |\n",
      "| Ghaziabad | Uttar Pradesh |    Vijay Kumar Singh    |     BJP      | 567,260 |\n",
      "|  Navsari  |    Gujarat    |       C. R. Patil       |     BJP      | 558,116 |\n",
      "|  Jaipur   |   Rajasthan   |    Ramcharan Bohara     |     BJP      | 539,345 |\n",
      "|   Surat   |    Gujarat    | Darshana Vikram Jardosh |     BJP      | 533,190 |\n",
      "+-----------+---------------+-------------------------+--------------+---------+\n",
      "\n",
      "Top 5 candidates based on margin in 2019:\n",
      "+-----------+--------------+-------------------------+--------------+---------+\n",
      "|  pc_name  | state_winner |    candidate_winner     | party_winner | margin  |\n",
      "+-----------+--------------+-------------------------+--------------+---------+\n",
      "|  Navsari  |   Gujarat    |       C. R. Patil       |     BJP      | 689,668 |\n",
      "|  Karnal   |   Haryana    |      Sanjay Bhatia      |     BJP      | 656,142 |\n",
      "| Faridabad |   Haryana    |       Krishan Pal       |     BJP      | 638,239 |\n",
      "| Bhilwara  |  Rajasthan   | Subhash Chandra Baheria |     BJP      | 612,000 |\n",
      "| Vadodara  |   Gujarat    |     Ranjanben Bhatt     |     BJP      | 589,177 |\n",
      "+-----------+--------------+-------------------------+--------------+---------+\n"
     ]
    }
   ],
   "source": [
    "# Function to get winners and runners-up\n",
    "def get_winners_and_runners_up(df):\n",
    "    # Sort by constituency and total_votes in descending order\n",
    "    df_sorted = df.sort_values(['pc_name', 'total_votes'], ascending=[True, False])\n",
    "    # Get the top two candidates in each constituency\n",
    "    top_two = df_sorted.groupby('pc_name').head(2).reset_index(drop=True)\n",
    "    winners = top_two.groupby('pc_name').first().reset_index()\n",
    "    runners_up = top_two.groupby('pc_name').nth(1).reset_index()\n",
    "    return winners, runners_up\n",
    "\n",
    "# Function to calculate margin of victory\n",
    "def calculate_margin(winners, runners_up):\n",
    "    merged = pd.merge(winners, runners_up, on='pc_name', suffixes=('_winner', '_runner_up'))\n",
    "    merged['margin'] = merged['total_votes_winner'] - merged['total_votes_runner_up']\n",
    "    return merged[['pc_name', 'state_winner', 'candidate_winner', 'party_winner', 'margin']]\n",
    "\n",
    "# Get winners and runners-up for 2014\n",
    "winners_2014, runners_up_2014 = get_winners_and_runners_up(df1)\n",
    "\n",
    "# Get winners and runners-up for 2019\n",
    "winners_2019, runners_up_2019 = get_winners_and_runners_up(df2)\n",
    "\n",
    "# Calculate margins for 2014\n",
    "margins_2014 = calculate_margin(winners_2014, runners_up_2014)\n",
    "\n",
    "# Calculate margins for 2019\n",
    "margins_2019 = calculate_margin(winners_2019, runners_up_2019)\n",
    "\n",
    "# Get top 5 candidates based on margin for 2014\n",
    "top_5_2014 = margins_2014.nlargest(5, 'margin')\n",
    "\n",
    "# Get top 5 candidates based on margin for 2019\n",
    "top_5_2019 = margins_2019.nlargest(5, 'margin')\n",
    "\n",
    "# Format the margin with commas for display\n",
    "top_5_2014['margin'] = top_5_2014['margin'].apply(lambda x: f\"{x:,}\")\n",
    "top_5_2019['margin'] = top_5_2019['margin'].apply(lambda x: f\"{x:,}\")\n",
    "\n",
    "# Display the results\n",
    "print(\"Top 5 candidates based on margin in 2014:\")\n",
    "print(tabulate(top_5_2014, headers='keys', tablefmt='pretty', showindex=False))\n",
    "\n",
    "print(\"\\nTop 5 candidates based on margin in 2019:\")\n",
    "print(tabulate(top_5_2019, headers='keys', tablefmt='pretty', showindex=False))\n"
   ]
  },
  {
   "cell_type": "markdown",
   "id": "1c09619b-5c08-4935-8735-98a12ab016c1",
   "metadata": {},
   "source": [
    "## 6. % Split of votes of parties between 2014 vs 2019 at national level"
   ]
  },
  {
   "cell_type": "code",
   "execution_count": 15,
   "id": "c63dc6b5-d210-487d-b8b4-9dbe79c594bb",
   "metadata": {},
   "outputs": [
    {
     "name": "stdout",
     "output_type": "stream",
     "text": [
      "Percentage split of votes by parties in 2014 and 2019:\n",
      "+-------+-----------------+-----------------+\n",
      "| party | percentage_2014 | percentage_2019 |\n",
      "+-------+-----------------+-----------------+\n",
      "|  BJP  |      30.97      |      37.3       |\n",
      "|  INC  |      18.58      |      19.46      |\n",
      "| AITC  |      4.08       |      4.06       |\n",
      "|  BSP  |      4.31       |      3.62       |\n",
      "|  IND  |      3.06       |       2.7       |\n",
      "|  SP   |      3.58       |      2.55       |\n",
      "| YSRCP |      2.69       |      2.53       |\n",
      "|  DMK  |      1.85       |      2.34       |\n",
      "|  SHS  |      1.97       |      2.09       |\n",
      "|  TDP  |      2.71       |      2.04       |\n",
      "+-------+-----------------+-----------------+\n"
     ]
    }
   ],
   "source": [
    "# Function to aggregate votes and calculate percentage split\n",
    "def aggregate_and_calculate_percentage(df, year):\n",
    "    votes = df.groupby('party')['total_votes'].sum().reset_index()\n",
    "    total_votes = votes['total_votes'].sum()\n",
    "    votes[f'percentage_{year}'] = (votes['total_votes'] / total_votes) * 100\n",
    "    votes[f'percentage_{year}'] = votes[f'percentage_{year}'].round(2)\n",
    "    return votes[['party', f'percentage_{year}']]\n",
    "\n",
    "# Aggregate votes and calculate percentage split for 2014\n",
    "votes_2014 = aggregate_and_calculate_percentage(df1, 2014)\n",
    "\n",
    "# Aggregate votes and calculate percentage split for 2019\n",
    "votes_2019 = aggregate_and_calculate_percentage(df2, 2019)\n",
    "\n",
    "# Merge the results from 2014 and 2019\n",
    "votes_comparison = pd.merge(votes_2014, votes_2019, on='party', how='outer').fillna(0)\n",
    "\n",
    "# Sort by the percentage in 2019 for better readability\n",
    "votes_comparison.sort_values('percentage_2019', ascending=False, inplace=True)\n",
    "\n",
    "# Display the results\n",
    "print(\"Percentage split of votes by parties in 2014 and 2019:\")\n",
    "print(tabulate(votes_comparison.head(10), headers='keys', tablefmt='pretty', showindex=False))"
   ]
  },
  {
   "cell_type": "markdown",
   "id": "31648c7d-74c2-4604-a290-1f422884ace4",
   "metadata": {},
   "source": [
    "## 7.% Split of votes of parties between 2014 vs 2019 at state level."
   ]
  },
  {
   "cell_type": "code",
   "execution_count": 17,
   "id": "0c42545f-b0db-4625-9cea-96042291bdfe",
   "metadata": {},
   "outputs": [
    {
     "name": "stdout",
     "output_type": "stream",
     "text": [
      "Percentage split of votes by parties between 2014 and 2019 at state level:\n",
      "+---------------------------+------------+------------------+-----------------+------------------+-----------------+\n",
      "|           state           |   party    | total_votes_2014 | percentage_2014 | total_votes_2019 | percentage_2019 |\n",
      "+---------------------------+------------+------------------+-----------------+------------------+-----------------+\n",
      "| Andaman & Nicobar Islands |    AAAP    |      3737.0      |      1.96       |      2839.0      |      1.37       |\n",
      "| Andaman & Nicobar Islands |   AINHCP   |       0.0        |       0.0       |      212.0       |       0.1       |\n",
      "| Andaman & Nicobar Islands |     SP     |      379.0       |       0.2       |       0.0        |       0.0       |\n",
      "| Andaman & Nicobar Islands |    NCP     |      1151.0      |       0.6       |       0.0        |       0.0       |\n",
      "| Andaman & Nicobar Islands |    IND     |      3511.0      |      1.84       |      9417.0      |      4.54       |\n",
      "| Andaman & Nicobar Islands |    INC     |     83157.0      |      43.69      |     95308.0      |      45.98      |\n",
      "| Andaman & Nicobar Islands |    NOTA    |      1564.0      |      0.82       |      1412.0      |      0.68       |\n",
      "| Andaman & Nicobar Islands | CPI(ML)(L) |      436.0       |      0.23       |       0.0        |       0.0       |\n",
      "| Andaman & Nicobar Islands |    BSP     |      1139.0      |       0.6       |      2486.0      |       1.2       |\n",
      "| Andaman & Nicobar Islands |    BJP     |     90969.0      |      47.8       |     93901.0      |      45.3       |\n",
      "+---------------------------+------------+------------------+-----------------+------------------+-----------------+\n"
     ]
    }
   ],
   "source": [
    "# Aggregate votes for each party at the state level for 2014 and 2019\n",
    "votes_2014_state = df1.groupby(['state', 'party'])['total_votes'].sum().reset_index()\n",
    "votes_2019_state = df2.groupby(['state', 'party'])['total_votes'].sum().reset_index()\n",
    "\n",
    "# Calculate total votes at the state level for 2014 and 2019\n",
    "total_votes_2014_state = votes_2014_state.groupby('state')['total_votes'].sum()\n",
    "total_votes_2019_state = votes_2019_state.groupby('state')['total_votes'].sum()\n",
    "\n",
    "# Calculate the percentage split for each party at the state level for 2014\n",
    "votes_2014_state['percentage_2014'] = (votes_2014_state['total_votes'] / \n",
    "                                        votes_2014_state['state'].map(total_votes_2014_state)) * 100\n",
    "votes_2014_state['percentage_2014'] = votes_2014_state['percentage_2014'].round(2)\n",
    "\n",
    "# Calculate the percentage split for each party at the state level for 2019\n",
    "votes_2019_state['percentage_2019'] = (votes_2019_state['total_votes'] / \n",
    "                                        votes_2019_state['state'].map(total_votes_2019_state)) * 100\n",
    "votes_2019_state['percentage_2019'] = votes_2019_state['percentage_2019'].round(2)\n",
    "\n",
    "# Merge the results from 2014 and 2019 at the state level\n",
    "votes_comparison_state = pd.merge(votes_2014_state, votes_2019_state, \n",
    "                                  on=['state', 'party'], \n",
    "                                  how='outer', \n",
    "                                  suffixes=('_2014', '_2019'))\n",
    "\n",
    "# Fill NaN values with 0 (if a party didn't participate in one of the years)\n",
    "votes_comparison_state.fillna(0, inplace=True)\n",
    "\n",
    "# Sort by the state name for better readability\n",
    "votes_comparison_state.sort_values('state', ascending=True, inplace=True)\n",
    "\n",
    "# Display the results\n",
    "print(\"Percentage split of votes by parties between 2014 and 2019 at state level:\")\n",
    "print(tabulate(votes_comparison_state.head(10), headers='keys', tablefmt='pretty', showindex=False))\n"
   ]
  },
  {
   "cell_type": "markdown",
   "id": "f0226740-e007-42a6-930a-eec20d7cc91a",
   "metadata": {},
   "source": [
    "## 8. List top 5 constituencies for two major national parties where they have gained vote share in 2019 as compared to 2014."
   ]
  },
  {
   "cell_type": "code",
   "execution_count": 22,
   "id": "9277f453-a18f-4e6a-b264-bb25f05c529f",
   "metadata": {},
   "outputs": [
    {
     "name": "stdout",
     "output_type": "stream",
     "text": [
      "Top 5 constituencies where BJP gained vote share in 2019 (percentage):\n",
      "+--------------+----------------------------+\n",
      "|   pc_name    | vote_share_diff_percentage |\n",
      "+--------------+----------------------------+\n",
      "|    Sirsa     |           52.16            |\n",
      "|    Hisar     |           51.13            |\n",
      "|    Madha     |            48.2            |\n",
      "|  Pratapgarh  |            47.7            |\n",
      "| Tripura West |           46.67            |\n",
      "+--------------+----------------------------+\n",
      "Top 5 constituencies where INC gained vote share in 2019 (percentage):\n",
      "+-----------------+----------------------------+\n",
      "|     pc_name     | vote_share_diff_percentage |\n",
      "+-----------------+----------------------------+\n",
      "|      Karur      |           60.15            |\n",
      "| Tiruchirappalli |           54.07            |\n",
      "|      Arani      |           51.47            |\n",
      "|   Thiruvallur   |           50.99            |\n",
      "|   Krishnagiri   |            49.0            |\n",
      "+-----------------+----------------------------+\n"
     ]
    }
   ],
   "source": [
    "# Load the data\n",
    "df_2014 = df1\n",
    "df_2019 = df2\n",
    "\n",
    "# Define the two major national parties\n",
    "party1 = 'BJP'\n",
    "party2 = 'INC'\n",
    "\n",
    "# Function to calculate vote share for a given party in a given year\n",
    "def calculate_vote_share(df, party, year):\n",
    "    total_votes_per_constituency = df.groupby('pc_name')['total_votes'].sum().reset_index()\n",
    "    party_votes_per_constituency = df[df['party'] == party].groupby('pc_name')['total_votes'].sum().reset_index()\n",
    "    \n",
    "    result = pd.merge(total_votes_per_constituency, party_votes_per_constituency, on='pc_name', how='left')\n",
    "    result.fillna(0, inplace=True)\n",
    "    \n",
    "    result.rename(columns={'total_votes_x': 'total_votes', 'total_votes_y': f'{party}_votes'}, inplace=True)\n",
    "    result[f'{party}_vote_share_{year}'] = (result[f'{party}_votes'] / result['total_votes']) * 100\n",
    "    result[f'{party}_vote_share_{year}'] = result[f'{party}_vote_share_{year}'].round(2)\n",
    "    \n",
    "    return result[['pc_name', f'{party}_vote_share_{year}']]\n",
    "\n",
    "# Calculate vote share for both parties in both years\n",
    "bjp_2014 = calculate_vote_share(df_2014, party1, 2014)\n",
    "bjp_2019 = calculate_vote_share(df_2019, party1, 2019)\n",
    "inc_2014 = calculate_vote_share(df_2014, party2, 2014)\n",
    "inc_2019 = calculate_vote_share(df_2019, party2, 2019)\n",
    "\n",
    "# Merge the results to find the difference in vote share\n",
    "merged_bjp = pd.merge(bjp_2014, bjp_2019, on='pc_name')\n",
    "merged_bjp['vote_share_diff_percentage'] = (merged_bjp[f'{party1}_vote_share_2019'] - merged_bjp[f'{party1}_vote_share_2014']).round(2)\n",
    "\n",
    "merged_inc = pd.merge(inc_2014, inc_2019, on='pc_name')\n",
    "merged_inc['vote_share_diff_percentage'] = (merged_inc[f'{party2}_vote_share_2019'] - merged_inc[f'{party2}_vote_share_2014']).round(2)\n",
    "\n",
    "# Get top 5 constituencies with the highest vote share gain for both parties\n",
    "top_5_bjp = merged_bjp.sort_values('vote_share_diff_percentage', ascending=False).head(5)\n",
    "top_5_inc = merged_inc.sort_values('vote_share_diff_percentage', ascending=False).head(5)\n",
    "\n",
    "# Display the results\n",
    "print(f\"Top 5 constituencies where {party1} gained vote share in 2019 (percentage):\")\n",
    "print(tabulate(top_5_bjp[['pc_name', 'vote_share_diff_percentage']], headers='keys', tablefmt='pretty', showindex=False))\n",
    "\n",
    "print(f\"Top 5 constituencies where {party2} gained vote share in 2019 (percentage):\")\n",
    "print(tabulate(top_5_inc[['pc_name', 'vote_share_diff_percentage']], headers='keys', tablefmt='pretty', showindex=False))\n"
   ]
  },
  {
   "cell_type": "markdown",
   "id": "5a8ddb95-8dac-40b7-88b4-9624666cda93",
   "metadata": {},
   "source": [
    "## 9.List top 5 constituencies for two major national parties where they have lost vote share in 2019 as compared to 2014."
   ]
  },
  {
   "cell_type": "code",
   "execution_count": 24,
   "id": "c68c752a-42a6-40f7-92dc-1414b19e06f7",
   "metadata": {},
   "outputs": [
    {
     "name": "stdout",
     "output_type": "stream",
     "text": [
      "Top 5 constituencies where BJP lost vote share in 2019 (percentage):\n",
      "+---------------+----------------------------+\n",
      "|    pc_name    | vote_share_diff_percentage |\n",
      "+---------------+----------------------------+\n",
      "|    Palghar    |           -53.72           |\n",
      "|   Gopalganj   |           -52.99           |\n",
      "|  Narsapuram   |           -48.56           |\n",
      "| Visakhapatnam |           -45.98           |\n",
      "|    Nawada     |           -44.12           |\n",
      "+---------------+----------------------------+\n",
      "Top 5 constituencies where INC lost vote share in 2019 (percentage):\n",
      "+------------------------+----------------------------+\n",
      "|        pc_name         | vote_share_diff_percentage |\n",
      "+------------------------+----------------------------+\n",
      "|        Mizoram         |           -48.59           |\n",
      "|         Mandya         |           -43.5            |\n",
      "|        Bijapur         |           -41.58           |\n",
      "| Dadra And Nagar Haveli |           -40.79           |\n",
      "|     Uttara Kannada     |           -40.58           |\n",
      "+------------------------+----------------------------+\n"
     ]
    }
   ],
   "source": [
    "# Load the data\n",
    "df_2014 = df1\n",
    "df_2019 = df2\n",
    "\n",
    "# Define the two major national parties\n",
    "party1 = 'BJP'\n",
    "party2 = 'INC'\n",
    "\n",
    "# Function to calculate vote share percentage and differences\n",
    "def calculate_vote_share_diff(df_2014, df_2019, party):\n",
    "    # Group by constituencies and aggregate the total votes\n",
    "    total_votes_2014 = df_2014.groupby('pc_name')['total_votes'].sum().reset_index()\n",
    "    total_votes_2014.rename(columns={'total_votes': 'total_votes'}, inplace=True)\n",
    "\n",
    "    total_votes_2019 = df_2019.groupby('pc_name')['total_votes'].sum().reset_index()\n",
    "    total_votes_2019.rename(columns={'total_votes': 'total_votes'}, inplace=True)\n",
    "\n",
    "    # Filter for the specific party and aggregate its votes per constituency\n",
    "    party_votes_2014 = df_2014[df_2014['party'] == party].groupby('pc_name')['total_votes'].sum().reset_index()\n",
    "    party_votes_2014.rename(columns={'total_votes': f'{party}_votes'}, inplace=True)\n",
    "\n",
    "    party_votes_2019 = df_2019[df_2019['party'] == party].groupby('pc_name')['total_votes'].sum().reset_index()\n",
    "    party_votes_2019.rename(columns={'total_votes': f'{party}_votes'}, inplace=True)\n",
    "\n",
    "    # Merge the results\n",
    "    result_2014 = pd.merge(total_votes_2014, party_votes_2014, on='pc_name', how='left').fillna(0)\n",
    "    result_2014[f'{party}_vote_share'] = (result_2014[f'{party}_votes'] / result_2014['total_votes']) * 100\n",
    "\n",
    "    result_2019 = pd.merge(total_votes_2019, party_votes_2019, on='pc_name', how='left').fillna(0)\n",
    "    result_2019[f'{party}_vote_share'] = (result_2019[f'{party}_votes'] / result_2019['total_votes']) * 100\n",
    "\n",
    "    # Merge 2014 and 2019 results and calculate vote share difference\n",
    "    merged_result = pd.merge(result_2014, result_2019, on='pc_name', suffixes=('_2014', '_2019'))\n",
    "    merged_result['vote_share_diff_percentage'] = merged_result[f'{party}_vote_share_2019'] - merged_result[f'{party}_vote_share_2014']\n",
    "\n",
    "    return merged_result\n",
    "\n",
    "# Calculate vote share differences for both parties\n",
    "merged_party1 = calculate_vote_share_diff(df_2014, df_2019, party1)\n",
    "merged_party2 = calculate_vote_share_diff(df_2014, df_2019, party2)\n",
    "\n",
    "# Get top 5 constituencies where the parties lost vote share\n",
    "top_5_party1 = merged_party1.sort_values('vote_share_diff_percentage').head(5)\n",
    "top_5_party2 = merged_party2.sort_values('vote_share_diff_percentage').head(5)\n",
    "\n",
    "# Round vote share difference to 2 decimal places\n",
    "top_5_party1['vote_share_diff_percentage'] = top_5_party1['vote_share_diff_percentage'].round(2)\n",
    "top_5_party2['vote_share_diff_percentage'] = top_5_party2['vote_share_diff_percentage'].round(2)\n",
    "\n",
    "# Display results\n",
    "print(f\"Top 5 constituencies where {party1} lost vote share in 2019 (percentage):\")\n",
    "print(tabulate(top_5_party1[['pc_name', 'vote_share_diff_percentage']], headers='keys', tablefmt='pretty', showindex=False))\n",
    "\n",
    "print(f\"Top 5 constituencies where {party2} lost vote share in 2019 (percentage):\")\n",
    "print(tabulate(top_5_party2[['pc_name', 'vote_share_diff_percentage']], headers='keys', tablefmt='pretty', showindex=False))\n"
   ]
  },
  {
   "cell_type": "markdown",
   "id": "56f16c6a-7c27-4358-9c2b-16bd670bbd7c",
   "metadata": {},
   "source": [
    "## 10.Which constituency has voted the most for NOTA?"
   ]
  },
  {
   "cell_type": "code",
   "execution_count": 28,
   "id": "83a528b6-376a-461e-8b61-31d29426e547",
   "metadata": {},
   "outputs": [
    {
     "name": "stdout",
     "output_type": "stream",
     "text": [
      "The constituency with the highest NOTA votes in 2014 is Nilgiris with 46559 NOTA votes.\n",
      "The constituency with the highest NOTA votes in 2019 is Gopalganj with 51660 NOTA votes.\n"
     ]
    }
   ],
   "source": [
    "# Function to find the constituency with the highest NOTA votes\n",
    "def highest_nota_votes(df, year):\n",
    "    nota_df = df[df['party'] == 'NOTA']\n",
    "    nota_votes_by_constituency = nota_df.groupby('pc_name', as_index=False).agg({'total_votes': 'sum'})\n",
    "    nota_votes_by_constituency.rename(columns={'total_votes': 'NOTA Votes'}, inplace=True)\n",
    "    \n",
    "    max_nota_index = nota_votes_by_constituency['NOTA Votes'].idxmax()\n",
    "    constituency_max_nota = nota_votes_by_constituency.loc[max_nota_index, 'pc_name']\n",
    "    max_nota_votes = nota_votes_by_constituency.loc[max_nota_index, 'NOTA Votes']\n",
    "    \n",
    "    print(f\"The constituency with the highest NOTA votes in {year} is {constituency_max_nota} with {max_nota_votes} NOTA votes.\")\n",
    "\n",
    "# Get highest NOTA votes for 2014 and 2019\n",
    "highest_nota_votes(df1, 2014)\n",
    "highest_nota_votes(df2, 2019)\n"
   ]
  },
  {
   "cell_type": "markdown",
   "id": "2ff868f2-6c64-47e1-be31-b595400a3383",
   "metadata": {},
   "source": [
    "## 11.Which constituencies have elected candidates whose party has less than 10% vote share at state level in 2019?"
   ]
  },
  {
   "cell_type": "code",
   "execution_count": 26,
   "id": "f156bf87-6dfa-4930-80c2-8a178f6c0212",
   "metadata": {},
   "outputs": [
    {
     "name": "stdout",
     "output_type": "stream",
     "text": [
      "Constituencies where elected candidates' parties have less than 10% vote share at state level in 2019:\n",
      "+-----------------+--------------------------+-------+------------+\n",
      "|      state      |         pc_name          | party | vote_share |\n",
      "+-----------------+--------------------------+-------+------------+\n",
      "|   Maharashtra   |         Amravati         |  IND  |    3.68    |\n",
      "| Jammu & Kashmir |         Anantnag         |  JKN  |    7.89    |\n",
      "| Jammu & Kashmir |        Baramulla         |  JKN  |    7.89    |\n",
      "| Jammu & Kashmir |         Srinagar         |  JKN  |    7.89    |\n",
      "|   Maharashtra   | Aurangabad (Maharashtra) | AIMIM |    0.72    |\n",
      "+-----------------+--------------------------+-------+------------+\n"
     ]
    }
   ],
   "source": [
    "# Load the data\n",
    "df_2019 = df2\n",
    "\n",
    "# Identify winners for 2019\n",
    "winners_2019 = df_2019.loc[df_2019.groupby('pc_name')['total_votes'].idxmax()].reset_index(drop=True)\n",
    "winners_2019 = winners_2019[['state', 'pc_name', 'party', 'total_votes', 'total_electors']]\n",
    "\n",
    "# Aggregate the votes for each party at the state level in 2019\n",
    "state_votes_2019 = df_2019.groupby(['state', 'party'])['total_votes'].sum().reset_index()\n",
    "\n",
    "# Calculate the total votes for each state\n",
    "state_total_votes_2019 = state_votes_2019.groupby('state')['total_votes'].sum().reset_index()\n",
    "state_total_votes_2019.rename(columns={'total_votes': 'state_total_votes'}, inplace=True)\n",
    "\n",
    "# Merge the total state votes back to the state_votes_2019 dataframe\n",
    "state_votes_2019 = state_votes_2019.merge(state_total_votes_2019, on='state')\n",
    "\n",
    "# Calculate the vote share for each party in each state\n",
    "state_votes_2019['vote_share'] = (state_votes_2019['total_votes'] / state_votes_2019['state_total_votes']) * 100\n",
    "\n",
    "# Identify parties with less than 10% vote share at the state level\n",
    "parties_less_than_10_percent = state_votes_2019[state_votes_2019['vote_share'] < 10][['party', 'state']]\n",
    "\n",
    "# Merge winners_2019 with state_votes_2019 to get the vote share of winning parties\n",
    "merged_data = winners_2019.merge(state_votes_2019, on=['state', 'party'])\n",
    "\n",
    "# Filter the constituencies where the elected candidates' parties have less than 10% vote share\n",
    "constituencies_less_than_10_percent = merged_data[merged_data['vote_share'] < 10][['state', 'pc_name', 'party', 'vote_share']]\n",
    "constituencies_less_than_10_percent['vote_share'] = constituencies_less_than_10_percent['vote_share'].round(2)\n",
    "\n",
    "# Display the constituencies\n",
    "print(\"Constituencies where elected candidates' parties have less than 10% vote share at state level in 2019:\")\n",
    "print(tabulate(constituencies_less_than_10_percent.head(), headers='keys', tablefmt='pretty', showindex=False))\n"
   ]
  },
  {
   "cell_type": "markdown",
   "id": "c464ac26-0402-4620-963e-afb3a2256258",
   "metadata": {},
   "source": [
    "## 12.Is there a correlation between postal votes % and voter turnout %?"
   ]
  },
  {
   "cell_type": "code",
   "execution_count": 30,
   "id": "f6384ec8-2f62-49cd-8681-c1b0ea5a25a7",
   "metadata": {},
   "outputs": [
    {
     "data": {
      "image/png": "[encoded data removed]",
      "text/plain": [
       "<Figure size 1000x600 with 1 Axes>"
      ]
     },
     "metadata": {},
     "output_type": "display_data"
    },
    {
     "name": "stdout",
     "output_type": "stream",
     "text": [
      "Correlation coefficient between postal votes % and voter turnout % in 2014: 0.08\n"
     ]
    },
    {
     "data": {
      "image/png": "[encoded data removed]",
      "text/plain": [
       "<Figure size 1000x600 with 1 Axes>"
      ]
     },
     "metadata": {},
     "output_type": "display_data"
    },
    {
     "name": "stdout",
     "output_type": "stream",
     "text": [
      "Correlation coefficient between postal votes % and voter turnout % in 2019: 0.03\n"
     ]
    }
   ],
   "source": [
    "# Function to calculate postal votes percentage, voter turnout percentage, and correlation\n",
    "def analyze_postal_votes_and_turnout(df, year):\n",
    "    df['postal_votes_percentage'] = (df['postal_votes'] / df['total_votes']) * 100\n",
    "    df['voter_turnout_percentage'] = (df['total_votes'] / df['total_electors']) * 100\n",
    "\n",
    "    # Check for correlation\n",
    "    correlation = df['postal_votes_percentage'].corr(df['voter_turnout_percentage'])\n",
    "\n",
    "    # Plot the relationship\n",
    "    plt.figure(figsize=(10, 6))\n",
    "    plt.scatter(df['postal_votes_percentage'], df['voter_turnout_percentage'], alpha=0.5)\n",
    "    plt.title(f'Postal Votes % vs Voter Turnout % ({year})')\n",
    "    plt.xlabel('Postal Votes %')\n",
    "    plt.ylabel('Voter Turnout %')\n",
    "    plt.grid(True)\n",
    "    plt.show()\n",
    "\n",
    "    # Print the correlation coefficient\n",
    "    print(f\"Correlation coefficient between postal votes % and voter turnout % in {year}: {round(correlation, 2)}\")\n",
    "\n",
    "# Load the data\n",
    "df_2014 = df1\n",
    "df_2019 = df2\n",
    "\n",
    "# Analyze for 2014\n",
    "analyze_postal_votes_and_turnout(df_2014, 2014)\n",
    "\n",
    "# Analyze for 2019\n",
    "analyze_postal_votes_and_turnout(df_2019, 2019)\n"
   ]
  },
  {
   "cell_type": "markdown",
   "id": "b537fd71-70ea-4092-ab73-b17e8751d3b8",
   "metadata": {},
   "source": [
    "## 13.Is there any correlation between GDP of a state and voter turnout %?"
   ]
  },
  {
   "cell_type": "code",
   "execution_count": 34,
   "id": "15875a24-ea2f-45db-924f-309557f4a646",
   "metadata": {},
   "outputs": [
    {
     "name": "stdout",
     "output_type": "stream",
     "text": [
      "Correlation coefficient between GDP and voter turnout %: -0.34\n"
     ]
    },
    {
     "data": {
      "image/png": "[encoded data removed]",
      "text/plain": [
       "<Figure size 500x300 with 1 Axes>"
      ]
     },
     "metadata": {},
     "output_type": "display_data"
    },
    {
     "name": "stdout",
     "output_type": "stream",
     "text": [
      "2014\n",
      "Correlation coefficient between GDP and voter turnout %: -0.28\n"
     ]
    },
    {
     "data": {
      "image/png": "[encoded data removed]",
      "text/plain": [
       "<Figure size 500x300 with 1 Axes>"
      ]
     },
     "metadata": {},
     "output_type": "display_data"
    },
    {
     "name": "stdout",
     "output_type": "stream",
     "text": [
      "2019\n"
     ]
    }
   ],
   "source": [
    "# Load election and GDP data\n",
    "df_election_2014 = pd.read_csv('constituency_wise_results_2014.csv')\n",
    "df_election_2019 = pd.read_csv('constituency_wise_results_2019.csv')\n",
    "gdp14 = pd.read_csv('2014gdp.csv')\n",
    "gdp19 = pd.read_csv('2019gdp.csv')\n",
    "\n",
    "# Data cleaning for GDP datasets\n",
    "def clean_gdp_data(gdp_df, state_col, gdp_col):\n",
    "    gdp_df[state_col] = gdp_df[state_col].str.title().str.strip()\n",
    "    gdp_df.dropna(inplace=True)\n",
    "    gdp_df.drop(34, inplace=True)\n",
    "    gdp_df.rename(columns={state_col: \"state\", gdp_col: \"GDP\"}, inplace=True)\n",
    "    gdp_df['GDP'] = gdp_df['GDP'].str.replace(',', '').astype(int)\n",
    "    return gdp_df\n",
    "\n",
    "gdp14 = clean_gdp_data(gdp14, \"State/union territory\", \"2014-15\")\n",
    "gdp19 = clean_gdp_data(gdp19, \"State/Union Territory\", \"Population (2019-20)\")\n",
    "\n",
    "# Aggregating election data by state\n",
    "def aggregate_election_data(df):\n",
    "    st = df[['state', 'total_electors']].drop_duplicates()\n",
    "    df_aggregated_st = st.groupby('state', as_index=False).agg({'total_electors': 'sum'}).reset_index()\n",
    "    df_aggregated = df.groupby('state', as_index=False).agg({'total_votes': 'sum'}).reset_index()\n",
    "    df_aggregated = df_aggregated.merge(df_aggregated_st[['state', 'total_electors']].drop_duplicates(), on='state')\n",
    "    df_aggregated['voter_turnout_percentage'] = ((df_aggregated['total_votes'] / df_aggregated['total_electors']) * 100).round(2)\n",
    "    return df_aggregated\n",
    "\n",
    "df_aggregated_2014 = aggregate_election_data(df_election_2014)\n",
    "df_aggregated_2019 = aggregate_election_data(df_election_2019)\n",
    "\n",
    "# Correcting mismatched state names\n",
    "def normalize_state_names(df, corrections):\n",
    "    for incorrect, correct in corrections.items():\n",
    "        df['state'] = df['state'].str.replace(incorrect.lower(), correct, case=False)\n",
    "    return df\n",
    "\n",
    "corrections_2014 = {\n",
    "    'Jammu And Kashmir (State)': 'Jammu & Kashmir',\n",
    "    'Andaman And Nicobar Islands': 'Andaman & Nicobar Islands',\n",
    "    'Delhi': 'NCT of Delhi',\n",
    "    'Puducherry*': 'Puducherry'\n",
    "}\n",
    "\n",
    "corrections_2019 = {\n",
    "    'Jammu And Kashmir': 'Jammu & Kashmir',\n",
    "    'Andaman And Nicobar Islands': 'Andaman & Nicobar Islands',\n",
    "    'Delhi': 'NCT of Delhi'\n",
    "}\n",
    "\n",
    "gdp14 = normalize_state_names(gdp14, corrections_2014)\n",
    "gdp19 = normalize_state_names(gdp19, corrections_2019)\n",
    "\n",
    "# Merge and analyze data\n",
    "def merge_and_analyze(df_election, gdp_df):\n",
    "    merged_data = pd.merge(df_election, gdp_df, on='state')\n",
    "    correlation = merged_data['GDP'].corr(merged_data['voter_turnout_percentage'])\n",
    "    print(f\"Correlation coefficient between GDP and voter turnout %: {round(correlation, 2)}\")\n",
    "    plt.figure(figsize=(5, 3))\n",
    "    sns.scatterplot(x='GDP', y='voter_turnout_percentage', data=merged_data)\n",
    "    plt.title('GDP vs Voter Turnout %')\n",
    "    plt.xlabel('GDP')\n",
    "    plt.ylabel('Voter Turnout %')\n",
    "    plt.grid(True)\n",
    "    plt.show()\n",
    "\n",
    "# Analyze 2014 data\n",
    "merge_and_analyze(df_aggregated_2014, gdp14)\n",
    "print('2014')\n",
    "\n",
    "# Analyze 2019 data\n",
    "merge_and_analyze(df_aggregated_2019, gdp19)\n",
    "print('2019')\n"
   ]
  },
  {
   "cell_type": "code",
   "execution_count": null,
   "id": "43d45634-e211-4e3d-a458-a622adc0c19c",
   "metadata": {},
   "outputs": [],
   "source": []
  }
 ],
 "metadata": {
  "kernelspec": {
   "display_name": "Python 3 (ipykernel)",
   "language": "python",
   "name": "python3"
  },
  "language_info": {
   "codemirror_mode": {
    "name": "ipython",
    "version": 3
   },
   "file_extension": ".py",
   "mimetype": "text/x-python",
   "name": "python",
   "nbconvert_exporter": "python",
   "pygments_lexer": "ipython3",
   "version": "3.11.7"
  }
 },
 "nbformat": 4,
 "nbformat_minor": 5
}
